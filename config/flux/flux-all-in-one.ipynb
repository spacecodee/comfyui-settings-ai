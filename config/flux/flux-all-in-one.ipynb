{
 "cells": [
  {
   "cell_type": "markdown",
   "metadata": {},
   "source": [
    "We need to intall and load the .env file"
   ]
  },
  {
   "cell_type": "code",
   "execution_count": 6,
   "metadata": {},
   "outputs": [],
   "source": [
    "# Configure the workspace path\n",
    "# importing the .env file and setting the workspace path\n",
    "import os\n",
    "from dotenv import load_dotenv\n",
    "\n",
    "load_dotenv()\n",
    "\n",
    "# setting the workspace path\n",
    "DIFFUSION_MODELS = os.getenv(\"DIFFUSION_MODELS\")\n",
    "IPADAPTER_FLUX = os.getenv(\"IPADAPTER-FLUX\")\n",
    "IPADAPTER_XLABS_FLUX = os.getenv(\"IPADAPTER-XLABS-FLUX\")\n",
    "VAE = os.getenv(\"VAE\")\n",
    "TEXT_ENCODERS = os.getenv(\"TEXT_ENCODERS\")\n",
    "LORAS_DIR = os.getenv(\"LORAS\")"
   ]
  },
  {
   "cell_type": "markdown",
   "metadata": {},
   "source": [
    "Before installing everything, we will need hugging face cli"
   ]
  },
  {
   "cell_type": "code",
   "execution_count": null,
   "metadata": {},
   "outputs": [],
   "source": [
    "%pip install -U \"huggingface_hub[cli]\"\n",
    "#Loging into our account\n",
    "!huggingface-cli login"
   ]
  },
  {
   "cell_type": "markdown",
   "metadata": {},
   "source": [
    "Installing Flux Dev - Model"
   ]
  },
  {
   "cell_type": "code",
   "execution_count": null,
   "metadata": {},
   "outputs": [],
   "source": [
    "!huggingface-cli download black-forest-labs/FLUX.1-dev flux1-dev.safetensors --local-dir $DIFFUSION_MODELS"
   ]
  },
  {
   "cell_type": "markdown",
   "metadata": {},
   "source": [
    "Then, we need to install the VAE"
   ]
  },
  {
   "cell_type": "code",
   "execution_count": null,
   "metadata": {},
   "outputs": [],
   "source": [
    "!huggingface-cli download black-forest-labs/FLUX.1-dev ae.safetensors --local-dir $VAE"
   ]
  },
  {
   "cell_type": "markdown",
   "metadata": {},
   "source": [
    "Download Text encoders"
   ]
  },
  {
   "cell_type": "code",
   "execution_count": null,
   "metadata": {},
   "outputs": [],
   "source": [
    "!huggingface-cli download comfyanonymous/flux_text_encoders clip_l.safetensors --local-dir $TEXT_ENCODERS\n",
    "!huggingface-cli download comfyanonymous/flux_text_encoders t5xxl_fp16.safetensors --local-dir $TEXT_ENCODERS"
   ]
  },
  {
   "cell_type": "markdown",
   "metadata": {},
   "source": [
    "Flux extras inpainting and Outpainting"
   ]
  },
  {
   "cell_type": "code",
   "execution_count": null,
   "metadata": {},
   "outputs": [],
   "source": [
    "!huggingface-cli download black-forest-labs/FLUX.1-Fill-dev flux1-fill-dev.safetensors --local-dir $DIFFUSION_MODELS"
   ]
  },
  {
   "cell_type": "markdown",
   "metadata": {},
   "source": [
    "FLux Redux"
   ]
  },
  {
   "cell_type": "code",
   "execution_count": null,
   "metadata": {},
   "outputs": [],
   "source": [
    "!huggingface-cli download Comfy-Org/sigclip_vision_384 sigclip_vision_patch14_384.safetensors --local-dir $CLIP_VISION\n",
    "!huggingface-cli download black-forest-labs/FLUX.1-Redux-dev flux1-redux-dev.safetensors --local-dir $STYLE_MODELS"
   ]
  },
  {
   "cell_type": "markdown",
   "metadata": {},
   "source": [
    "Control net union - you can download by comfyui manager (recommended) or by manual (not recommended)"
   ]
  },
  {
   "cell_type": "code",
   "execution_count": null,
   "metadata": {},
   "outputs": [],
   "source": [
    "!huggingface-cli download Shakker-Labs/FLUX.1-dev-ControlNet-Union-Pro diffusion_pytorch_model.safetensors --local-dir $STYLE_MODELS\n",
    "!mv $STYLE_MODELS/diffusion_pytorch_model.safetensors $STYLE_MODELS/ControlNet_Union_Pro.safetensors"
   ]
  },
  {
   "cell_type": "markdown",
   "metadata": {},
   "source": [
    "Ip Adapters | You can download by comfyui manaer (recommended) or by manual (not recommended) you need to create a folder \"/ipadapter-flux\" in ComfyUI/models/"
   ]
  },
  {
   "cell_type": "code",
   "execution_count": null,
   "metadata": {},
   "outputs": [],
   "source": [
    "!huggingface-cli download InstantX/FLUX.1-dev-IP-Adapter ip-adapter.bin --local-dir $IPADAPTER_FLUX"
   ]
  },
  {
   "cell_type": "code",
   "execution_count": null,
   "metadata": {},
   "outputs": [],
   "source": [
    "!huggingface-cli download XLabs-AI/flux-ip-adapter ip_adapter.safetensors --local-dir $IPADAPTER_XLABS_FLUX"
   ]
  },
  {
   "cell_type": "code",
   "execution_count": null,
   "metadata": {},
   "outputs": [],
   "source": [
    "!huggingface-cli download XLabs-AI/flux-ip-adapter-v2 ip_adapter.safetensors --local-dir $IPADAPTER_XLABS_FLUX/v2"
   ]
  },
  {
   "cell_type": "markdown",
   "metadata": {},
   "source": [
    "Flux Loras from CivitAI"
   ]
  },
  {
   "cell_type": "code",
   "execution_count": 7,
   "metadata": {},
   "outputs": [],
   "source": [
    "TOKEN = os.getenv(\"CIVITAI_TOKEN\")"
   ]
  },
  {
   "cell_type": "code",
   "execution_count": null,
   "metadata": {},
   "outputs": [],
   "source": [
    "%cd $LORAS_DIR/flux-dev"
   ]
  },
  {
   "cell_type": "code",
   "execution_count": null,
   "metadata": {},
   "outputs": [],
   "source": [
    "!wget -O \"UltraRealistic_Lora_Project.safetensors\" \"https://civitai.com/api/download/models/1026423?type=Model&format=SafeTensor&token=$TOKEN\""
   ]
  },
  {
   "cell_type": "code",
   "execution_count": null,
   "metadata": {},
   "outputs": [],
   "source": [
    "!wget -O \"flat_colour_anime_style_v3.4.safetensors\" \"https://civitai.com/api/download/models/838667?type=Model&format=SafeTensor&token=$TOKEN\""
   ]
  },
  {
   "cell_type": "code",
   "execution_count": null,
   "metadata": {},
   "outputs": [],
   "source": [
    "!wget -O \"ghibli-style-flux.safetensors\" \"https://civitai.com/api/download/models/1599234?type=Model&format=SafeTensor&token=$TOKEN\""
   ]
  },
  {
   "cell_type": "code",
   "execution_count": null,
   "metadata": {},
   "outputs": [],
   "source": [
    "!huggingface-cli download black-forest-labs/FLUX.1-Depth-dev-lora flux1-depth-dev-lora.safetensors --local-dir $LORAS_DIR"
   ]
  },
  {
   "cell_type": "markdown",
   "metadata": {},
   "source": [
    "---"
   ]
  },
  {
   "cell_type": "markdown",
   "metadata": {},
   "source": [
    "Custom Nodes"
   ]
  },
  {
   "cell_type": "markdown",
   "metadata": {},
   "source": [
    "https://github.com/cubiq/ComfyUI_IPAdapter_plus"
   ]
  },
  {
   "cell_type": "code",
   "execution_count": null,
   "metadata": {},
   "outputs": [],
   "source": [
    "!git clone https://github.com/cubiq/ComfyUI_IPAdapter_plus.git\n",
    "\n",
    "%cd $COMFYUI_CUSTOM_NODES/comfyui_controlnet_aux\n",
    "%pip install -r requirements.txt"
   ]
  },
  {
   "cell_type": "code",
   "execution_count": null,
   "metadata": {},
   "outputs": [],
   "source": [
    "https://github.com/Shakker-Labs/ComfyUI-IPAdapter-Flux"
   ]
  },
  {
   "cell_type": "code",
   "execution_count": null,
   "metadata": {},
   "outputs": [],
   "source": [
    "!git clone https://github.com/Shakker-Labs/ComfyUI-IPAdapter-Flux.git\n",
    "\n",
    "%cd $COMFYUI_CUSTOM_NODES/ComfyUI-IPAdapter-Flux\n",
    "%pip install -r requirements.txt"
   ]
  },
  {
   "cell_type": "markdown",
   "metadata": {},
   "source": [
    "https://github.com/WASasquatch/was-node-suite-comfyui"
   ]
  },
  {
   "cell_type": "code",
   "execution_count": null,
   "metadata": {},
   "outputs": [],
   "source": [
    "!git clone https://github.com/WASasquatch/was-node-suite-comfyui.git\n",
    "\n",
    "%cd $COMFYUI_CUSTOM_NODES/was-node-suite-comfyui\n",
    "%pip install -r requirements.txt"
   ]
  },
  {
   "cell_type": "markdown",
   "metadata": {},
   "source": [
    "https://github.com/kaibioinfo/ComfyUI_AdvancedRefluxControl"
   ]
  },
  {
   "cell_type": "code",
   "execution_count": null,
   "metadata": {},
   "outputs": [],
   "source": [
    "!git clone https://github.com/kaibioinfo/ComfyUI_AdvancedRefluxControl.git"
   ]
  },
  {
   "cell_type": "markdown",
   "metadata": {},
   "source": [
    "https://github.com/chflame163/ComfyUI_LayerStyle_Advance"
   ]
  },
  {
   "cell_type": "code",
   "execution_count": null,
   "metadata": {},
   "outputs": [],
   "source": [
    "!git clone https://github.com/chflame163/ComfyUI_LayerStyle_Advance.git\n",
    "\n",
    "%cd $COMFYUI_CUSTOM_NODES/ComfyUI_LayerStyle_Advance\n",
    "%pip install -r requirements.txt"
   ]
  },
  {
   "cell_type": "markdown",
   "metadata": {},
   "source": [
    "https://github.com/YarvixPA/ComfyUI-NeuralMedia"
   ]
  },
  {
   "cell_type": "code",
   "execution_count": null,
   "metadata": {},
   "outputs": [],
   "source": [
    "!git clone https://github.com/YarvixPA/ComfyUI-NeuralMedia.git\n",
    "\n",
    "%cd $COMFYUI_CUSTOM_NODES/ComfyUI-NeuralMedia\n",
    "%pip install -r requirements.txt"
   ]
  },
  {
   "cell_type": "markdown",
   "metadata": {},
   "source": [
    "https://github.com/XLabs-AI/x-flux-comfyui"
   ]
  },
  {
   "cell_type": "code",
   "execution_count": null,
   "metadata": {},
   "outputs": [],
   "source": [
    "!git clone https://github.com/XLabs-AI/x-flux-comfyui.git\n",
    "\n",
    "%cd $COMFYUI_CUSTOM_NODES/x-flux-comfyui\n",
    "%pip install -r requirements.txt"
   ]
  },
  {
   "cell_type": "markdown",
   "metadata": {},
   "source": [
    "https://github.com/yanhuifair/comfyui-janus"
   ]
  },
  {
   "cell_type": "code",
   "execution_count": null,
   "metadata": {},
   "outputs": [],
   "source": [
    "!git clone https://github.com/yanhuifair/comfyui-janus.git\n",
    "\n",
    "%cd $COMFYUI_CUSTOM_NODES/comfyui-janus\n",
    "%pip install -r requirements.txt"
   ]
  }
 ],
 "metadata": {
  "kernelspec": {
   "display_name": "cloudspace",
   "language": "python",
   "name": "python3"
  },
  "language_info": {
   "codemirror_mode": {
    "name": "ipython",
    "version": 3
   },
   "file_extension": ".py",
   "mimetype": "text/x-python",
   "name": "python",
   "nbconvert_exporter": "python",
   "pygments_lexer": "ipython3",
   "version": "3.10.10"
  }
 },
 "nbformat": 4,
 "nbformat_minor": 2
}
