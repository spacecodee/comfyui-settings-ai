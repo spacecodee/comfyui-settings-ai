{
 "cells": [
  {
   "cell_type": "markdown",
   "metadata": {},
   "source": [
    "We need to intall and load the .env file"
   ]
  },
  {
   "cell_type": "code",
   "execution_count": 1,
   "metadata": {},
   "outputs": [],
   "source": [
    "# Configure the workspace path\n",
    "# importing the .env file and setting the workspace path\n",
    "import os\n",
    "from dotenv import load_dotenv\n",
    "\n",
    "load_dotenv()\n",
    "\n",
    "# setting the workspace path\n",
    "DIFFUSION_MODELS = os.getenv(\"DIFFUSION_MODELS\")\n",
    "VAE = os.getenv(\"VAE\")\n",
    "TEXT_ENCODERS = os.getenv(\"TEXT_ENCODERS\")"
   ]
  },
  {
   "cell_type": "markdown",
   "metadata": {},
   "source": [
    "Before installing everything, we will need hugging face cli"
   ]
  },
  {
   "cell_type": "code",
   "execution_count": null,
   "metadata": {},
   "outputs": [],
   "source": [
    "%pip install -U \"huggingface_hub[cli]\"\n",
    "#Loging into our account\n",
    "!huggingface-cli login"
   ]
  },
  {
   "cell_type": "markdown",
   "metadata": {},
   "source": [
    "Installing Flux Dev - Model"
   ]
  },
  {
   "cell_type": "code",
   "execution_count": null,
   "metadata": {},
   "outputs": [],
   "source": [
    "!huggingface-cli download black-forest-labs/FLUX.1-dev flux1-dev.safetensors --local-dir $DIFFUSION_MODELS"
   ]
  },
  {
   "cell_type": "markdown",
   "metadata": {},
   "source": [
    "Then, we need to install the VAE"
   ]
  },
  {
   "cell_type": "code",
   "execution_count": null,
   "metadata": {},
   "outputs": [],
   "source": [
    "!huggingface-cli download black-forest-labs/FLUX.1-dev ae.safetensors --local-dir $VAE"
   ]
  },
  {
   "cell_type": "markdown",
   "metadata": {},
   "source": [
    "Download Text encoders"
   ]
  },
  {
   "cell_type": "code",
   "execution_count": null,
   "metadata": {},
   "outputs": [],
   "source": [
    "!huggingface-cli comfyanonymous/flux_text_encoders clip_l.safetensors --local-dir $TEXT_ENCODERS\n",
    "!huggingface-cli comfyanonymous/flux_text_encoders t5xxl_fp16.safetensors --local-dir $TEXT_ENCODERS"
   ]
  },
  {
   "cell_type": "markdown",
   "metadata": {},
   "source": [
    "Flux Loras from CivitAI"
   ]
  },
  {
   "cell_type": "code",
   "execution_count": null,
   "metadata": {},
   "outputs": [],
   "source": [
    "TOKEN = os.getenv(\"CIVITAI_TOKEN\")"
   ]
  },
  {
   "cell_type": "code",
   "execution_count": null,
   "metadata": {},
   "outputs": [],
   "source": [
    "!wget -O \"UltraRealistic_Lora_Project.safetensors\" \"https://civitai.com/api/download/models/1026423?type=Model&format=SafeTensor&token=$TOKEN\""
   ]
  },
  {
   "cell_type": "markdown",
   "metadata": {},
   "source": [
    "Flux extras inpainting and Outpainting"
   ]
  },
  {
   "cell_type": "code",
   "execution_count": null,
   "metadata": {},
   "outputs": [],
   "source": [
    "!huggingface-cli black-forest-labs/FLUX.1-Fill-dev flux1-fill-dev.safetensors --local-dir $DIFFUSION_MODELS"
   ]
  },
  {
   "cell_type": "markdown",
   "metadata": {},
   "source": [
    "FLux Redux"
   ]
  },
  {
   "cell_type": "code",
   "execution_count": null,
   "metadata": {},
   "outputs": [],
   "source": [
    "!huggingface-cli Comfy-Org/sigclip_vision_384 sigclip_vision_patch14_384.safetensors --local-dir $CLIP_VISION\n",
    "!huggingface-cli black-forest-labs/FLUX.1-Redux-dev flux1-redux-dev.safetensors --local-dir $STYLE_MODELS"
   ]
  },
  {
   "cell_type": "markdown",
   "metadata": {},
   "source": [
    "Control net union - you can download by comfyui manager (recommended) or by manual (not recommended)"
   ]
  },
  {
   "cell_type": "code",
   "execution_count": null,
   "metadata": {},
   "outputs": [],
   "source": [
    "!huggingface-cli Shakker-Labs/FLUX.1-dev-ControlNet-Union-Pro diffusion_pytorch_model.safetensors --local-dir $STYLE_MODELS\n",
    "!mv $STYLE_MODELS/diffusion_pytorch_model.safetensors $STYLE_MODELS/ControlNet_Union_Pro.safetensors"
   ]
  },
  {
   "cell_type": "markdown",
   "metadata": {},
   "source": [
    "Ip Adapters | You can download by comfyui manaer (recommended) or by manual (not recommended) you need to create a folder \"/ipadapter-flux\" in ComfyUI/models/"
   ]
  },
  {
   "cell_type": "code",
   "execution_count": null,
   "metadata": {},
   "outputs": [],
   "source": [
    "!huggingface-cli InstantX/FLUX.1-dev-IP-Adapter ip-adapter.bin --local-dir $STYLE_MODELS"
   ]
  }
 ],
 "metadata": {
  "language_info": {
   "name": "python"
  }
 },
 "nbformat": 4,
 "nbformat_minor": 2
}
