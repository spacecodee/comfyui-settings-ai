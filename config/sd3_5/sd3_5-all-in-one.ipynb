{
 "cells": [
  {
   "cell_type": "markdown",
   "metadata": {},
   "source": [
    "We need to intall and load the .env file"
   ]
  },
  {
   "cell_type": "code",
   "execution_count": 2,
   "metadata": {},
   "outputs": [],
   "source": [
    "# Configure the workspace path\n",
    "# importing the .env file and setting the workspace path\n",
    "import os\n",
    "from dotenv import load_dotenv\n",
    "\n",
    "load_dotenv()\n",
    "\n",
    "# setting the workspace path\n",
    "CHECKPOINTS = os.getenv(\"CHECKPOINTS\")\n",
    "IPADAPTER = os.getenv(\"IPADAPTER\")\n",
    "TEXT_ENCODERS = os.getenv(\"TEXT_ENCODERS\")\n",
    "LORAS_DIR = os.getenv(\"LORAS\")\n",
    "CLIP = os.getenv(\"CLIP\")\n",
    "CONTROL_NETS = os.getenv(\"CONTROL_NETS\")"
   ]
  },
  {
   "cell_type": "markdown",
   "metadata": {},
   "source": [
    "Before installing everything, we will need hugging face cli"
   ]
  },
  {
   "cell_type": "code",
   "execution_count": null,
   "metadata": {},
   "outputs": [],
   "source": [
    "%pip install -U \"huggingface_hub[cli]\"\n",
    "#Loging into our account\n",
    "!huggingface-cli login"
   ]
  },
  {
   "cell_type": "markdown",
   "metadata": {},
   "source": [
    "Installing SD3.5 Large"
   ]
  },
  {
   "cell_type": "code",
   "execution_count": null,
   "metadata": {},
   "outputs": [],
   "source": [
    "!huggingface-cli download stabilityai/stable-diffusion-3.5-large sd3.5_large.safetensors --local-dir $CHECKPOINTS/sd3-5"
   ]
  },
  {
   "cell_type": "markdown",
   "metadata": {},
   "source": [
    "Download Clip"
   ]
  },
  {
   "cell_type": "code",
   "execution_count": null,
   "metadata": {},
   "outputs": [],
   "source": [
    "!huggingface-cli download stabilityai/stable-diffusion-3.5-large text_encoders/clip_g.safetensors --local-dir $CLIP/sd3-5\n",
    "!huggingface-cli download stabilityai/stable-diffusion-3.5-large text_encoders/clip_l.safetensors --local-dir $CLIP/sd3-5\n",
    "!huggingface-cli download stabilityai/stable-diffusion-3.5-large text_encoders/t5xxl_fp16.safetensors --local-dir $CLIP/sd3-5"
   ]
  },
  {
   "cell_type": "markdown",
   "metadata": {},
   "source": [
    "ControlNet"
   ]
  },
  {
   "cell_type": "code",
   "execution_count": null,
   "metadata": {},
   "outputs": [],
   "source": [
    "!huggingface-cli download stabilityai/stable-diffusion-3.5-controlnets sd3.5_large_controlnet_blur.safetensors --local-dir $CONTROL_NETS/sd3-5\n",
    "!huggingface-cli download stabilityai/stable-diffusion-3.5-controlnets sd3.5_large_controlnet_canny.safetensors --local-dir $CONTROL_NETS/sd3-5\n",
    "!huggingface-cli download stabilityai/stable-diffusion-3.5-controlnets sd3.5_large_controlnet_depth.safetensors --local-dir $CONTROL_NETS/sd3-5"
   ]
  },
  {
   "cell_type": "markdown",
   "metadata": {},
   "source": [
    "Ip Adapters"
   ]
  },
  {
   "cell_type": "code",
   "execution_count": null,
   "metadata": {},
   "outputs": [],
   "source": [
    "!huggingface-cli download InstantX/SD3.5-Large-IP-Adapter ip-adapter.bin --local-dir $IPADAPTER/sd3-5"
   ]
  },
  {
   "cell_type": "markdown",
   "metadata": {},
   "source": [
    "Flux Loras from CivitAI"
   ]
  },
  {
   "cell_type": "code",
   "execution_count": 7,
   "metadata": {},
   "outputs": [],
   "source": [
    "TOKEN = os.getenv(\"CIVITAI_TOKEN\")"
   ]
  },
  {
   "cell_type": "code",
   "execution_count": null,
   "metadata": {},
   "outputs": [],
   "source": [
    "%cd $LORAS_DIR/sd3-5"
   ]
  },
  {
   "cell_type": "code",
   "execution_count": null,
   "metadata": {},
   "outputs": [],
   "source": [
    "!wget -O \"UltraRealistic_Lora_Project.safetensors\" \"https://civitai.com/api/download/models/1026423?type=Model&format=SafeTensor&token=$TOKEN\""
   ]
  }
 ],
 "metadata": {
  "language_info": {
   "name": "python"
  }
 },
 "nbformat": 4,
 "nbformat_minor": 2
}
