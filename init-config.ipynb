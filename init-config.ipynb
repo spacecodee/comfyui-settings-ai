{
 "cells": [
  {
   "cell_type": "markdown",
   "metadata": {},
   "source": [
    "We need to intall and load the .env file"
   ]
  },
  {
   "cell_type": "code",
   "execution_count": null,
   "metadata": {},
   "outputs": [],
   "source": [
    "# Configure the workspace path\n",
    "# importing the .env file and setting the workspace path\n",
    "import os\n",
    "from dotenv import load_dotenv\n",
    "\n",
    "load_dotenv()\n",
    "\n",
    "# setting the workspace path\n",
    "WORKSPACE = os.getenv(\"CHECKPOINTS\")\n",
    "COMFYUI_CUSTOM_NODES = os.getenv(\"COMFYUI_CUSTOM_NODES\")"
   ]
  },
  {
   "cell_type": "markdown",
   "metadata": {},
   "source": [
    "ComfyUI Install"
   ]
  },
  {
   "cell_type": "code",
   "execution_count": null,
   "metadata": {},
   "outputs": [],
   "source": [
    "%pip install --pre torch torchvision torchaudio --index-url https://download.pytorch.org/whl/nightly/xpu"
   ]
  },
  {
   "cell_type": "code",
   "execution_count": null,
   "metadata": {},
   "outputs": [],
   "source": [
    "%cd $WORKSPACE"
   ]
  },
  {
   "cell_type": "code",
   "execution_count": null,
   "metadata": {},
   "outputs": [],
   "source": [
    "!git clone https://github.com/comfyanonymous/ComfyUI.git"
   ]
  },
  {
   "cell_type": "code",
   "execution_count": null,
   "metadata": {},
   "outputs": [],
   "source": [
    "%cd $WORKSPACE/ComfyUI\n",
    "%pip install -r requirements.txt"
   ]
  },
  {
   "cell_type": "markdown",
   "metadata": {},
   "source": [
    "Best Custom Nodes"
   ]
  },
  {
   "cell_type": "markdown",
   "metadata": {},
   "source": [
    "ComfyUI Manager https://github.com/ltdrdata/ComfyUI-Manager"
   ]
  },
  {
   "cell_type": "code",
   "execution_count": null,
   "metadata": {},
   "outputs": [],
   "source": [
    "%cd $COMFYUI_CUSTOM_NODES\n",
    "\n",
    "!git clone https://github.com/ltdrdata/ComfyUI-Manager.git\n",
    "\n",
    "%cd $COMFYUI_CUSTOM_NODES/ComfyUI-Manager\n",
    "%pip install -r requirements.txt"
   ]
  },
  {
   "cell_type": "markdown",
   "metadata": {},
   "source": [
    "Crystools https://github.com/crystian/ComfyUI-Crystools"
   ]
  },
  {
   "cell_type": "code",
   "execution_count": null,
   "metadata": {},
   "outputs": [],
   "source": [
    "%cd $COMFYUI_CUSTOM_NODES\n",
    "\n",
    "!git clone https://github.com/crystian/ComfyUI-Crystools.git\n",
    "\n",
    "%cd $COMFYUI_CUSTOM_NODES/ComfyUI-Crystools\n",
    "%pip install -r requirements.txt"
   ]
  },
  {
   "cell_type": "markdown",
   "metadata": {},
   "source": [
    "SD Upscaler https://github.com/ssitu/ComfyUI_UltimateSDUpscale"
   ]
  },
  {
   "cell_type": "code",
   "execution_count": null,
   "metadata": {},
   "outputs": [],
   "source": [
    "%cd $COMFYUI_CUSTOM_NODES\n",
    "\n",
    "!git clone https://github.com/ssitu/ComfyUI_UltimateSDUpscale --recursive"
   ]
  },
  {
   "cell_type": "markdown",
   "metadata": {},
   "source": [
    "ComfyUI Custom Scripts https://github.com/pythongosssss/ComfyUI-Custom-Scripts"
   ]
  },
  {
   "cell_type": "code",
   "execution_count": null,
   "metadata": {},
   "outputs": [],
   "source": [
    "%cd $COMFYUI_CUSTOM_NODES\n",
    "\n",
    "!git clone https://github.com/pythongosssss/ComfyUI-Custom-Scripts.git"
   ]
  },
  {
   "cell_type": "markdown",
   "metadata": {},
   "source": [
    "ComfyUI-Easy-Use https://github.com/yolain/ComfyUI-Easy-Use"
   ]
  },
  {
   "cell_type": "code",
   "execution_count": null,
   "metadata": {},
   "outputs": [],
   "source": [
    "%cd $COMFYUI_CUSTOM_NODES\n",
    "\n",
    "!git clone https://github.com/yolain/ComfyUI-Easy-Use.git\n",
    "\n",
    "%cd $COMFYUI_CUSTOM_NODES/ComfyUI-Easy-Use\n",
    "%pip install -r requirements.txt"
   ]
  },
  {
   "cell_type": "markdown",
   "metadata": {},
   "source": [
    "ComfyUI_essentials https://github.com/cubiq/ComfyUI_essentials"
   ]
  },
  {
   "cell_type": "code",
   "execution_count": null,
   "metadata": {},
   "outputs": [],
   "source": [
    "%cd $COMFYUI_CUSTOM_NODES\n",
    "\n",
    "!git clone https://github.com/cubiq/ComfyUI_essentials.git\n",
    "\n",
    "%cd $COMFYUI_CUSTOM_NODES/ComfyUI_essentials\n",
    "%pip install -r requirements.txt"
   ]
  },
  {
   "cell_type": "markdown",
   "metadata": {},
   "source": [
    "cg-use-everywhere https://github.com/chrisgoringe/cg-use-everywhere"
   ]
  },
  {
   "cell_type": "code",
   "execution_count": null,
   "metadata": {},
   "outputs": [],
   "source": [
    "%cd $COMFYUI_CUSTOM_NODES\n",
    "\n",
    "!git clone https://github.com/chrisgoringe/cg-use-everywhere.git"
   ]
  },
  {
   "cell_type": "markdown",
   "metadata": {},
   "source": [
    "ComfyUI-JakeUpgrade https://github.com/jakechai/ComfyUI-JakeUpgrade"
   ]
  },
  {
   "cell_type": "code",
   "execution_count": null,
   "metadata": {},
   "outputs": [],
   "source": [
    "%cd $COMFYUI_CUSTOM_NODES\n",
    "\n",
    "!git clone https://github.com/jakechai/ComfyUI-JakeUpgrade.git\n",
    "\n",
    "%cd $COMFYUI_CUSTOM_NODES/ComfyUI_essentials\n",
    "%pip install -r requirements.txt"
   ]
  },
  {
   "cell_type": "markdown",
   "metadata": {},
   "source": [
    "ControlAltAI-Nodes https://github.com/gseth/ControlAltAI-Nodes"
   ]
  },
  {
   "cell_type": "code",
   "execution_count": null,
   "metadata": {},
   "outputs": [],
   "source": [
    "%cd $COMFYUI_CUSTOM_NODES\n",
    "\n",
    "!git clone https://github.com/gseth/ControlAltAI-Nodes.git"
   ]
  }
 ],
 "metadata": {
  "language_info": {
   "name": "python"
  }
 },
 "nbformat": 4,
 "nbformat_minor": 2
}
